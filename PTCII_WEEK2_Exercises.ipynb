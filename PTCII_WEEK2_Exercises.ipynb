{
 "cells": [
  {
   "cell_type": "markdown",
   "metadata": {},
   "source": [
    "[![Open in Colab](https://colab.research.google.com/assets/colab-badge.svg)](https://colab.research.google.com/github/AethiQs/PTC_PA2/blob/PTCII_WEEK2_Exercises.ipynb)"
   ]
  },
  {
   "cell_type": "markdown",
   "metadata": {},
   "source": [
    "# PTC Python Advanced II:\n",
    "\n",
    "## Exercises week 2\n",
    "In this jupyter notebook you will practice with some of the concepts covered in lecture 2. More specifically, you will...\n",
    "\n",
    "- load in a dataset\n",
    "- explore the data\n",
    "    - detect missing values\n",
    "    - find variable types\n",
    "- fix columns with missing data\n",
    "- encode categorical variables\n",
    "- write a data processing pipeline\n",
    "\n",
    "\n",
    "## Working in Google Colab\n",
    "For this course we will work in Google Colab. This is a free online Python environment that has many useful packages already installed (including sklearn!). We will prepare the notebooks so that you only need to write code and check the output, without the hassle of downloading datasets and installing packages.\n",
    "\n",
    "If you haven't done so already, please click the `Open in Colab` button at the top of the notebook. This will open this notebook in the Colab interface. If necessary, you can log in with your school account. To editg the notebook, you must copy it to your personal drive. This is easily done by clicking the button \"Kopiëren naar Drive\" at the top of the Colab menu."
   ]
  },
  {
   "cell_type": "code",
   "execution_count": null,
   "metadata": {},
   "outputs": [],
   "source": [
    "# Run this cell to check if the notebook is working properly\n",
    "import sklearn\n",
    "print(\"Sklearn version: \", sklearn.__version__)\n",
    "\n",
    "# Enter your name here and run the notebook to check you can edit cells\n",
    "MY_NAME = \"EDIT ME\"\n",
    "print(\"My naem is \", MY_NAME)"
   ]
  },
  {
   "cell_type": "markdown",
   "metadata": {},
   "source": [
    "### 1. In this question we load in the data for you. The data is loaded from a web url so that you don't need to connect Google Colab to your drive. \n",
    "\n",
    "**DO NOT CHANGE THE CODE IN THE CELL BELOW PLEASE**"
   ]
  },
  {
   "cell_type": "code",
   "execution_count": null,
   "metadata": {},
   "outputs": [],
   "source": [
    "import pandas as pd\n",
    "\n",
    "# DO NOT CHANGE THIS CODE\n",
    "URL = \"https://raw.githubusercontent.com/AethiQs/PTC_PA2/main/bank-full.csv\"\n",
    "bank_data = pd.read_csv(URL, sep=\";\")\n",
    "\n",
    "bank_data"
   ]
  },
  {
   "cell_type": "markdown",
   "metadata": {},
   "source": [
    "## 2. Analyze your dataset and obtain useful information about the data. Do the following common tasks:"
   ]
  },
  {
   "cell_type": "markdown",
   "metadata": {},
   "source": [
    "Print the dtypes of variables (use `bank_data.dtypes` for this)"
   ]
  },
  {
   "cell_type": "code",
   "execution_count": null,
   "metadata": {},
   "outputs": [],
   "source": [
    "# ADD CODE HERE"
   ]
  },
  {
   "cell_type": "markdown",
   "metadata": {},
   "source": [
    "Write down which variables are numerical and which are categorical. For categorical variables, write down if it makes sense to order them"
   ]
  },
  {
   "cell_type": "code",
   "execution_count": null,
   "metadata": {},
   "outputs": [],
   "source": [
    "# Use comments to write down column types:\n",
    "# Categorical (ordered):\n",
    "    # EDIT ME\n",
    "    # EDIT ME\n",
    "    # ...\n",
    "\n",
    "# Categorical (unordered):\n",
    "    # EDIT ME\n",
    "    # EDIT ME\n",
    "    # ...\n",
    "\n",
    "# Numerical:\n",
    "    # EDIT ME\n",
    "    # EDIT ME\n",
    "    # ..."
   ]
  },
  {
   "cell_type": "markdown",
   "metadata": {},
   "source": [
    "Check which variables have missing data (see slides for code)"
   ]
  },
  {
   "cell_type": "code",
   "execution_count": null,
   "metadata": {},
   "outputs": [],
   "source": [
    "# ADD CODE HERE"
   ]
  },
  {
   "cell_type": "markdown",
   "metadata": {},
   "source": [
    "Write down which columns have missing data, and how this is denoted"
   ]
  },
  {
   "cell_type": "code",
   "execution_count": null,
   "metadata": {},
   "outputs": [],
   "source": [
    "# Example\n",
    "    # Column poutcome has missing values with value \"unknown\"\n",
    "\n",
    "# EDIT BELOW\n",
    "    # Column EDIT ME has missing values with value EDIT ME\n",
    "    # Column EDIT ME has missing values with value EDIT ME\n",
    "    # ..."
   ]
  },
  {
   "cell_type": "markdown",
   "metadata": {},
   "source": [
    "## 3. An important step in cleaning your dataset is handling null values. The sklearn package provides a data imputer function for this. Use this function to handle the null values found in the previous exercise. "
   ]
  },
  {
   "cell_type": "code",
   "execution_count": null,
   "metadata": {},
   "outputs": [],
   "source": [
    "from sklearn.impute import SimpleImputer\n",
    "\n",
    "# Column names with missing data\n",
    "col_names_missing_data = [\"EDIT ME\", \"EDIT ME\"]\n",
    "subset_missing_data = bank_data[col_names_missing_data]\n",
    "\n",
    "# ADD CODE HERE"
   ]
  },
  {
   "cell_type": "markdown",
   "metadata": {},
   "source": [
    "## 4. Convert the categorical variables from assignment 2 using encoders. Remove the original columns from the dataframe. "
   ]
  },
  {
   "cell_type": "code",
   "execution_count": null,
   "metadata": {},
   "outputs": [],
   "source": [
    "from sklearn.preprocessing import OrdinalEncoder, OneHotEncoder\n",
    "\n",
    "# Column names with ordered categorical variables\n",
    "col_names_cat_ordered = [\"EDIT ME\", \"EDIT ME\"]\n",
    "subset_cat_ordered = bank_data[col_names_cat_ordered]\n",
    "\n",
    "# Column names with unordered categorical variables\n",
    "col_names_cat_unordered = [\"EDIT ME\", \"EDIT ME\"]\n",
    "subset_cat_unordered = bank_data[col_names_cat_unordered]\n",
    "\n",
    "# ADD CODE HERE"
   ]
  },
  {
   "cell_type": "markdown",
   "metadata": {},
   "source": [
    "## 5. What is a pipeline and why is it important?"
   ]
  },
  {
   "cell_type": "code",
   "execution_count": null,
   "metadata": {},
   "outputs": [],
   "source": [
    "# WRITE BELOW:\n",
    "    # EDIT ME\n",
    "    # EDIT ME\n",
    "    # ..."
   ]
  },
  {
   "cell_type": "markdown",
   "metadata": {},
   "source": [
    "## 6. Implement the previous questions into a pipeline."
   ]
  },
  {
   "cell_type": "code",
   "execution_count": null,
   "metadata": {},
   "outputs": [],
   "source": [
    "# ADD CODE HERE"
   ]
  },
  {
   "cell_type": "markdown",
   "metadata": {},
   "source": [
    "## 7. What types of data scaling are there and why is it useful?"
   ]
  },
  {
   "cell_type": "code",
   "execution_count": null,
   "metadata": {},
   "outputs": [],
   "source": [
    "# WRITE BELOW:\n",
    "    # EDIT ME\n",
    "    # EDIT ME\n",
    "    # ..."
   ]
  },
  {
   "cell_type": "markdown",
   "metadata": {},
   "source": [
    "## 8. Is it necessary to scale columns in the current dataset?"
   ]
  },
  {
   "cell_type": "code",
   "execution_count": null,
   "metadata": {},
   "outputs": [],
   "source": [
    "# WRITE BELOW:\n",
    "    # EDIT ME\n",
    "    # EDIT ME\n",
    "    # ..."
   ]
  }
 ],
 "metadata": {
  "kernelspec": {
   "display_name": "Python 3.9.7 ('base')",
   "language": "python",
   "name": "python3"
  },
  "language_info": {
   "codemirror_mode": {
    "name": "ipython",
    "version": 3
   },
   "file_extension": ".py",
   "mimetype": "text/x-python",
   "name": "python",
   "nbconvert_exporter": "python",
   "pygments_lexer": "ipython3",
   "version": "3.9.7"
  },
  "orig_nbformat": 4,
  "vscode": {
   "interpreter": {
    "hash": "a1c2d866e1f8f4f68a7ee751c0fa9674a16a590668374edb209a570864acd627"
   }
  }
 },
 "nbformat": 4,
 "nbformat_minor": 2
}
