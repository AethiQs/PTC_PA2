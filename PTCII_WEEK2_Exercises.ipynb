{
 "cells": [
  {
   "cell_type": "markdown",
   "metadata": {},
   "source": [
    "[![Open in Colab](https://colab.research.google.com/assets/colab-badge.svg)](https://colab.research.google.com/github/AethiQs/PTC_PA2/blob/PTCII_WEEK2_Exercises.ipynb)"
   ]
  },
  {
   "cell_type": "markdown",
   "metadata": {},
   "source": [
    "# PTC Python Advanced II:\n",
    "\n",
    "#### Exercises week 2"
   ]
  },
  {
   "cell_type": "markdown",
   "metadata": {},
   "source": [
    "## 1. To be able to make the following exercises, you will have to prepare your environment. Download and install the packages discussed in the lesson. Import the bank.csv dataset and load the data into a dataframe. \n",
    "\n",
    "#### The dataset can be found using this link: https://archive.ics.uci.edu/ml/datasets/bank+marketing"
   ]
  },
  {
   "cell_type": "code",
   "execution_count": null,
   "metadata": {},
   "outputs": [],
   "source": []
  },
  {
   "cell_type": "markdown",
   "metadata": {},
   "source": [
    "## 2. After successfully importing the dataset we begin with our data exploration. Analyze your dataset and obtain useful information about the data. For example, by identifying the variables, attributes, datatypes and finding null values in columns.  \n",
    "\n",
    "#### Tip: to help you better understand the data, it is helpful create a statistical summary  and visualize the dataset."
   ]
  },
  {
   "cell_type": "code",
   "execution_count": null,
   "metadata": {},
   "outputs": [],
   "source": []
  },
  {
   "cell_type": "markdown",
   "metadata": {},
   "source": [
    "## 3. Start your pre-processing fase by cleaning your dataset. An important step in cleaning your dataset is handling null values. The sklearn package provides a data imputer function for this. Use this function to handle the null values found in the previous exercise. \n",
    "\n",
    "#### Tip: sklearn is a good package for this. For more information, go to the documentation found by using the following link: https://scikit-learn.org/0.18/modules/generated/sklearn.preprocessing.Imputer.html  "
   ]
  },
  {
   "cell_type": "code",
   "execution_count": null,
   "metadata": {},
   "outputs": [],
   "source": []
  },
  {
   "cell_type": "markdown",
   "metadata": {},
   "source": [
    "## 4. Which columns are categorical and must be encoded to use in a model. Make a distinction between ordered and unordered attributes.  Convert those columns by using sklearn transformer classes and remove the original columns from the dataframe. \n",
    "\n",
    "#### Tip: the sklearn documentation is found by using the following link: https://scikit-learn.org/stable/data_transforms.html."
   ]
  },
  {
   "cell_type": "code",
   "execution_count": null,
   "metadata": {},
   "outputs": [],
   "source": []
  },
  {
   "cell_type": "markdown",
   "metadata": {},
   "source": [
    "## 5. What is a pipeline and why is it important?"
   ]
  },
  {
   "cell_type": "markdown",
   "metadata": {},
   "source": []
  },
  {
   "cell_type": "markdown",
   "metadata": {},
   "source": [
    "## 6. Implement the previous questions into a pipeline."
   ]
  },
  {
   "cell_type": "code",
   "execution_count": null,
   "metadata": {},
   "outputs": [],
   "source": []
  },
  {
   "cell_type": "markdown",
   "metadata": {},
   "source": [
    "## 7. What types of data scaling are there and why is it useful?"
   ]
  },
  {
   "cell_type": "markdown",
   "metadata": {},
   "source": []
  },
  {
   "cell_type": "markdown",
   "metadata": {},
   "source": [
    "## 8. Is it necessary to scale columns in the current dataset?"
   ]
  },
  {
   "cell_type": "markdown",
   "metadata": {},
   "source": []
  },
  {
   "cell_type": "markdown",
   "metadata": {},
   "source": [
    "## 9. What is the reason for a validation set?"
   ]
  },
  {
   "cell_type": "markdown",
   "metadata": {},
   "source": [
    "## 10. Divide the data into train and test data using a split ratio of 75:25. \n",
    "\n",
    "#### Tip: for more information the documentation can be consulted using the following link: https://scikit-learn.org/stable/modules/generated/sklearn.model_selection.train_test_split.html. "
   ]
  },
  {
   "cell_type": "markdown",
   "metadata": {},
   "source": []
  }
 ],
 "metadata": {
  "kernelspec": {
   "display_name": "Python 3.9.12 ('base': conda)",
   "language": "python",
   "name": "python3"
  },
  "language_info": {
   "codemirror_mode": {
    "name": "ipython",
    "version": 3
   },
   "file_extension": ".py",
   "mimetype": "text/x-python",
   "name": "python",
   "nbconvert_exporter": "python",
   "pygments_lexer": "ipython3",
   "version": "3.9.12"
  },
  "orig_nbformat": 4,
  "vscode": {
   "interpreter": {
    "hash": "eb8c779e6c9b1956fffb0ac4ba3db0ba113f7ce1af23c585f78f4b1274be755e"
   }
  }
 },
 "nbformat": 4,
 "nbformat_minor": 2
}
