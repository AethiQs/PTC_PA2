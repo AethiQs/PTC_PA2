{
  "cells": [
    {
      "cell_type": "markdown",
      "metadata": {
        "id": "Z350PPfzJ3e3"
      },
      "source": [
        "[![Open in Colab](https://colab.research.google.com/assets/colab-badge.svg)](https://colab.research.google.com/github/AethiQs/PTC_PA2/blob/main/PTCII_WEEK4_Exercises_Answers.ipynb)"
      ]
    },
    {
      "cell_type": "markdown",
      "metadata": {
        "id": "3qPLTl_VJ3e6"
      },
      "source": [
        "# PTC Python Advanced II:\n",
        "\n",
        "## Exercises week 4\n",
        "\n",
        "In this Jupytern otebook you will practice with some of the concepts covered in the first three weeks. More specifically, you will ...\n",
        "\n",
        "- load and preprocess a dataset\n",
        "- make a train-test split of the data\n",
        "- train a logistic regression model\n",
        "- evaluate a model\n",
        "\n",
        "## Working in Google Colab\n",
        "For this course we will work in Google Colab. This is a free online Python environment that has many useful packages already installed (including sklearn!). We will prepare the notebooks so that you only need to write code and check the output, without the hassle of downloading datasets and installing packages.\n",
        "\n",
        "If you haven't done so already, please click the `Open in Colab` button at the top of the notebook. This will open this notebook in the Colab interface. If necessary, you can log in with your school account. To editg the notebook, you must copy it to your personal drive. This is easily done by clicking the button \"Kopiëren naar Drive\" at the top of the Colab menu."
      ]
    },
    {
      "cell_type": "code",
      "execution_count": 19,
      "metadata": {
        "id": "LTNtKKhoJ3e7",
        "outputId": "f4e5d029-bb7c-406c-9413-d1ac99efea6c",
        "colab": {
          "base_uri": "https://localhost:8080/"
        }
      },
      "outputs": [
        {
          "output_type": "stream",
          "name": "stdout",
          "text": [
            "Sklearn version:  1.0.2\n",
            "My name is  EDIT ME\n"
          ]
        }
      ],
      "source": [
        "# Run this cell to check if the notebook is working properly\n",
        "import sklearn\n",
        "print(\"Sklearn version: \", sklearn.__version__)\n",
        "\n",
        "# Enter your name here and run the notebook to check you can edit cells\n",
        "MY_NAME = \"EDIT ME\"\n",
        "print(\"My name is \", MY_NAME)"
      ]
    },
    {
      "cell_type": "markdown",
      "metadata": {
        "id": "x8WSWf-aJ3e8"
      },
      "source": [
        "### 1. In this question we load in the data for you. The data is loaded from a web url so that you don't need to connect Google Colab to your drive.\n",
        "\n",
        "**DO NOT CHANGE THE CODE IN THE CELL BELOW PLEASE**"
      ]
    },
    {
      "cell_type": "code",
      "execution_count": 20,
      "metadata": {
        "id": "KJ67JrGDJ3e8",
        "outputId": "f0056521-31db-4005-a52f-69b28eeb6a54",
        "colab": {
          "base_uri": "https://localhost:8080/",
          "height": 423
        }
      },
      "outputs": [
        {
          "output_type": "execute_result",
          "data": {
            "text/plain": [
              "      age  sex   cp  trestbps   chol  fbs  restecg  thalach  exang  oldpeak  \\\n",
              "0    28.0  1.0  2.0     130.0  132.0  0.0      2.0    185.0    0.0      0.0   \n",
              "1    29.0  1.0  2.0     120.0  243.0  0.0      0.0    160.0    0.0      0.0   \n",
              "2    30.0  0.0  1.0     170.0  237.0  0.0      1.0    170.0    0.0      0.0   \n",
              "3    31.0  0.0  2.0     100.0  219.0  0.0      1.0    150.0    0.0      0.0   \n",
              "4    32.0  0.0  2.0     105.0  198.0  0.0      0.0    165.0    0.0      0.0   \n",
              "..    ...  ...  ...       ...    ...  ...      ...      ...    ...      ...   \n",
              "256  52.0  1.0  4.0     160.0  331.0  0.0      0.0     94.0    1.0      2.5   \n",
              "257  54.0  0.0  3.0     130.0  294.0  0.0      1.0    100.0    1.0      0.0   \n",
              "258  56.0  1.0  4.0     155.0  342.0  1.0      0.0    150.0    1.0      3.0   \n",
              "259  58.0  0.0  2.0     180.0  393.0  0.0      0.0    110.0    1.0      1.0   \n",
              "260  65.0  1.0  4.0     130.0  275.0  0.0      1.0    115.0    1.0      1.0   \n",
              "\n",
              "     num         \n",
              "0           0.0  \n",
              "1           0.0  \n",
              "2           0.0  \n",
              "3           0.0  \n",
              "4           0.0  \n",
              "..          ...  \n",
              "256         1.0  \n",
              "257         1.0  \n",
              "258         1.0  \n",
              "259         1.0  \n",
              "260         1.0  \n",
              "\n",
              "[261 rows x 11 columns]"
            ],
            "text/html": [
              "\n",
              "  <div id=\"df-f445415d-d75b-49b3-bf49-5c37fbb8ab52\">\n",
              "    <div class=\"colab-df-container\">\n",
              "      <div>\n",
              "<style scoped>\n",
              "    .dataframe tbody tr th:only-of-type {\n",
              "        vertical-align: middle;\n",
              "    }\n",
              "\n",
              "    .dataframe tbody tr th {\n",
              "        vertical-align: top;\n",
              "    }\n",
              "\n",
              "    .dataframe thead th {\n",
              "        text-align: right;\n",
              "    }\n",
              "</style>\n",
              "<table border=\"1\" class=\"dataframe\">\n",
              "  <thead>\n",
              "    <tr style=\"text-align: right;\">\n",
              "      <th></th>\n",
              "      <th>age</th>\n",
              "      <th>sex</th>\n",
              "      <th>cp</th>\n",
              "      <th>trestbps</th>\n",
              "      <th>chol</th>\n",
              "      <th>fbs</th>\n",
              "      <th>restecg</th>\n",
              "      <th>thalach</th>\n",
              "      <th>exang</th>\n",
              "      <th>oldpeak</th>\n",
              "      <th>num</th>\n",
              "    </tr>\n",
              "  </thead>\n",
              "  <tbody>\n",
              "    <tr>\n",
              "      <th>0</th>\n",
              "      <td>28.0</td>\n",
              "      <td>1.0</td>\n",
              "      <td>2.0</td>\n",
              "      <td>130.0</td>\n",
              "      <td>132.0</td>\n",
              "      <td>0.0</td>\n",
              "      <td>2.0</td>\n",
              "      <td>185.0</td>\n",
              "      <td>0.0</td>\n",
              "      <td>0.0</td>\n",
              "      <td>0.0</td>\n",
              "    </tr>\n",
              "    <tr>\n",
              "      <th>1</th>\n",
              "      <td>29.0</td>\n",
              "      <td>1.0</td>\n",
              "      <td>2.0</td>\n",
              "      <td>120.0</td>\n",
              "      <td>243.0</td>\n",
              "      <td>0.0</td>\n",
              "      <td>0.0</td>\n",
              "      <td>160.0</td>\n",
              "      <td>0.0</td>\n",
              "      <td>0.0</td>\n",
              "      <td>0.0</td>\n",
              "    </tr>\n",
              "    <tr>\n",
              "      <th>2</th>\n",
              "      <td>30.0</td>\n",
              "      <td>0.0</td>\n",
              "      <td>1.0</td>\n",
              "      <td>170.0</td>\n",
              "      <td>237.0</td>\n",
              "      <td>0.0</td>\n",
              "      <td>1.0</td>\n",
              "      <td>170.0</td>\n",
              "      <td>0.0</td>\n",
              "      <td>0.0</td>\n",
              "      <td>0.0</td>\n",
              "    </tr>\n",
              "    <tr>\n",
              "      <th>3</th>\n",
              "      <td>31.0</td>\n",
              "      <td>0.0</td>\n",
              "      <td>2.0</td>\n",
              "      <td>100.0</td>\n",
              "      <td>219.0</td>\n",
              "      <td>0.0</td>\n",
              "      <td>1.0</td>\n",
              "      <td>150.0</td>\n",
              "      <td>0.0</td>\n",
              "      <td>0.0</td>\n",
              "      <td>0.0</td>\n",
              "    </tr>\n",
              "    <tr>\n",
              "      <th>4</th>\n",
              "      <td>32.0</td>\n",
              "      <td>0.0</td>\n",
              "      <td>2.0</td>\n",
              "      <td>105.0</td>\n",
              "      <td>198.0</td>\n",
              "      <td>0.0</td>\n",
              "      <td>0.0</td>\n",
              "      <td>165.0</td>\n",
              "      <td>0.0</td>\n",
              "      <td>0.0</td>\n",
              "      <td>0.0</td>\n",
              "    </tr>\n",
              "    <tr>\n",
              "      <th>...</th>\n",
              "      <td>...</td>\n",
              "      <td>...</td>\n",
              "      <td>...</td>\n",
              "      <td>...</td>\n",
              "      <td>...</td>\n",
              "      <td>...</td>\n",
              "      <td>...</td>\n",
              "      <td>...</td>\n",
              "      <td>...</td>\n",
              "      <td>...</td>\n",
              "      <td>...</td>\n",
              "    </tr>\n",
              "    <tr>\n",
              "      <th>256</th>\n",
              "      <td>52.0</td>\n",
              "      <td>1.0</td>\n",
              "      <td>4.0</td>\n",
              "      <td>160.0</td>\n",
              "      <td>331.0</td>\n",
              "      <td>0.0</td>\n",
              "      <td>0.0</td>\n",
              "      <td>94.0</td>\n",
              "      <td>1.0</td>\n",
              "      <td>2.5</td>\n",
              "      <td>1.0</td>\n",
              "    </tr>\n",
              "    <tr>\n",
              "      <th>257</th>\n",
              "      <td>54.0</td>\n",
              "      <td>0.0</td>\n",
              "      <td>3.0</td>\n",
              "      <td>130.0</td>\n",
              "      <td>294.0</td>\n",
              "      <td>0.0</td>\n",
              "      <td>1.0</td>\n",
              "      <td>100.0</td>\n",
              "      <td>1.0</td>\n",
              "      <td>0.0</td>\n",
              "      <td>1.0</td>\n",
              "    </tr>\n",
              "    <tr>\n",
              "      <th>258</th>\n",
              "      <td>56.0</td>\n",
              "      <td>1.0</td>\n",
              "      <td>4.0</td>\n",
              "      <td>155.0</td>\n",
              "      <td>342.0</td>\n",
              "      <td>1.0</td>\n",
              "      <td>0.0</td>\n",
              "      <td>150.0</td>\n",
              "      <td>1.0</td>\n",
              "      <td>3.0</td>\n",
              "      <td>1.0</td>\n",
              "    </tr>\n",
              "    <tr>\n",
              "      <th>259</th>\n",
              "      <td>58.0</td>\n",
              "      <td>0.0</td>\n",
              "      <td>2.0</td>\n",
              "      <td>180.0</td>\n",
              "      <td>393.0</td>\n",
              "      <td>0.0</td>\n",
              "      <td>0.0</td>\n",
              "      <td>110.0</td>\n",
              "      <td>1.0</td>\n",
              "      <td>1.0</td>\n",
              "      <td>1.0</td>\n",
              "    </tr>\n",
              "    <tr>\n",
              "      <th>260</th>\n",
              "      <td>65.0</td>\n",
              "      <td>1.0</td>\n",
              "      <td>4.0</td>\n",
              "      <td>130.0</td>\n",
              "      <td>275.0</td>\n",
              "      <td>0.0</td>\n",
              "      <td>1.0</td>\n",
              "      <td>115.0</td>\n",
              "      <td>1.0</td>\n",
              "      <td>1.0</td>\n",
              "      <td>1.0</td>\n",
              "    </tr>\n",
              "  </tbody>\n",
              "</table>\n",
              "<p>261 rows × 11 columns</p>\n",
              "</div>\n",
              "      <button class=\"colab-df-convert\" onclick=\"convertToInteractive('df-f445415d-d75b-49b3-bf49-5c37fbb8ab52')\"\n",
              "              title=\"Convert this dataframe to an interactive table.\"\n",
              "              style=\"display:none;\">\n",
              "        \n",
              "  <svg xmlns=\"http://www.w3.org/2000/svg\" height=\"24px\"viewBox=\"0 0 24 24\"\n",
              "       width=\"24px\">\n",
              "    <path d=\"M0 0h24v24H0V0z\" fill=\"none\"/>\n",
              "    <path d=\"M18.56 5.44l.94 2.06.94-2.06 2.06-.94-2.06-.94-.94-2.06-.94 2.06-2.06.94zm-11 1L8.5 8.5l.94-2.06 2.06-.94-2.06-.94L8.5 2.5l-.94 2.06-2.06.94zm10 10l.94 2.06.94-2.06 2.06-.94-2.06-.94-.94-2.06-.94 2.06-2.06.94z\"/><path d=\"M17.41 7.96l-1.37-1.37c-.4-.4-.92-.59-1.43-.59-.52 0-1.04.2-1.43.59L10.3 9.45l-7.72 7.72c-.78.78-.78 2.05 0 2.83L4 21.41c.39.39.9.59 1.41.59.51 0 1.02-.2 1.41-.59l7.78-7.78 2.81-2.81c.8-.78.8-2.07 0-2.86zM5.41 20L4 18.59l7.72-7.72 1.47 1.35L5.41 20z\"/>\n",
              "  </svg>\n",
              "      </button>\n",
              "      \n",
              "  <style>\n",
              "    .colab-df-container {\n",
              "      display:flex;\n",
              "      flex-wrap:wrap;\n",
              "      gap: 12px;\n",
              "    }\n",
              "\n",
              "    .colab-df-convert {\n",
              "      background-color: #E8F0FE;\n",
              "      border: none;\n",
              "      border-radius: 50%;\n",
              "      cursor: pointer;\n",
              "      display: none;\n",
              "      fill: #1967D2;\n",
              "      height: 32px;\n",
              "      padding: 0 0 0 0;\n",
              "      width: 32px;\n",
              "    }\n",
              "\n",
              "    .colab-df-convert:hover {\n",
              "      background-color: #E2EBFA;\n",
              "      box-shadow: 0px 1px 2px rgba(60, 64, 67, 0.3), 0px 1px 3px 1px rgba(60, 64, 67, 0.15);\n",
              "      fill: #174EA6;\n",
              "    }\n",
              "\n",
              "    [theme=dark] .colab-df-convert {\n",
              "      background-color: #3B4455;\n",
              "      fill: #D2E3FC;\n",
              "    }\n",
              "\n",
              "    [theme=dark] .colab-df-convert:hover {\n",
              "      background-color: #434B5C;\n",
              "      box-shadow: 0px 1px 3px 1px rgba(0, 0, 0, 0.15);\n",
              "      filter: drop-shadow(0px 1px 2px rgba(0, 0, 0, 0.3));\n",
              "      fill: #FFFFFF;\n",
              "    }\n",
              "  </style>\n",
              "\n",
              "      <script>\n",
              "        const buttonEl =\n",
              "          document.querySelector('#df-f445415d-d75b-49b3-bf49-5c37fbb8ab52 button.colab-df-convert');\n",
              "        buttonEl.style.display =\n",
              "          google.colab.kernel.accessAllowed ? 'block' : 'none';\n",
              "\n",
              "        async function convertToInteractive(key) {\n",
              "          const element = document.querySelector('#df-f445415d-d75b-49b3-bf49-5c37fbb8ab52');\n",
              "          const dataTable =\n",
              "            await google.colab.kernel.invokeFunction('convertToInteractive',\n",
              "                                                     [key], {});\n",
              "          if (!dataTable) return;\n",
              "\n",
              "          const docLinkHtml = 'Like what you see? Visit the ' +\n",
              "            '<a target=\"_blank\" href=https://colab.research.google.com/notebooks/data_table.ipynb>data table notebook</a>'\n",
              "            + ' to learn more about interactive tables.';\n",
              "          element.innerHTML = '';\n",
              "          dataTable['output_type'] = 'display_data';\n",
              "          await google.colab.output.renderOutput(dataTable, element);\n",
              "          const docLink = document.createElement('div');\n",
              "          docLink.innerHTML = docLinkHtml;\n",
              "          element.appendChild(docLink);\n",
              "        }\n",
              "      </script>\n",
              "    </div>\n",
              "  </div>\n",
              "  "
            ]
          },
          "metadata": {},
          "execution_count": 20
        }
      ],
      "source": [
        "import pandas as pd\n",
        "\n",
        "# DO NOT CHANGE THIS CODE\n",
        "URL = \"https://raw.githubusercontent.com/AethiQs/PTC_PA2/main/medical.csv\"\n",
        "medical_data = pd.read_csv(URL, sep=\",\") \\\n",
        "    .drop(['slope', 'ca', 'thal'], axis=1) \\\n",
        "    .replace(\"?\", pd.NA) \\\n",
        "    .dropna() \\\n",
        "    .astype(float) \\\n",
        "    .reset_index(drop=True)\n",
        "\n",
        "medical_data"
      ]
    },
    {
      "cell_type": "markdown",
      "metadata": {
        "id": "v4bQUJXmJ3e8"
      },
      "source": [
        "### 3. The `num` column is the target column we want to predict using the values in the other columns. A value of 1 indicates that a patient suffers from a heart disease. Create two dataframes, named `X` and `y`. Make sure that `y` contains only the column `num` and that `X` contains all other columns except `num`. You can make use of simple column selection to make `y`, and the `.copy()` and `.drop()` methods to make `X`. Print both dataframes to make sure you did it correctly."
      ]
    },
    {
      "cell_type": "code",
      "execution_count": 37,
      "metadata": {
        "id": "Ug4cloh_J3e9",
        "colab": {
          "base_uri": "https://localhost:8080/"
        },
        "outputId": "ec39d196-1a18-47bd-c9aa-2119be8a7042"
      },
      "outputs": [
        {
          "output_type": "stream",
          "name": "stdout",
          "text": [
            "Index(['age', 'sex', 'cp', 'trestbps', 'chol', 'fbs', 'restecg', 'thalach',\n",
            "       'exang', 'oldpeak', 'num       '],\n",
            "      dtype='object')\n",
            "      age  sex   cp  trestbps   chol  fbs  restecg  thalach  exang  oldpeak\n",
            "0    28.0  1.0  2.0     130.0  132.0  0.0      2.0    185.0    0.0      0.0\n",
            "1    29.0  1.0  2.0     120.0  243.0  0.0      0.0    160.0    0.0      0.0\n",
            "2    30.0  0.0  1.0     170.0  237.0  0.0      1.0    170.0    0.0      0.0\n",
            "3    31.0  0.0  2.0     100.0  219.0  0.0      1.0    150.0    0.0      0.0\n",
            "4    32.0  0.0  2.0     105.0  198.0  0.0      0.0    165.0    0.0      0.0\n",
            "..    ...  ...  ...       ...    ...  ...      ...      ...    ...      ...\n",
            "256  52.0  1.0  4.0     160.0  331.0  0.0      0.0     94.0    1.0      2.5\n",
            "257  54.0  0.0  3.0     130.0  294.0  0.0      1.0    100.0    1.0      0.0\n",
            "258  56.0  1.0  4.0     155.0  342.0  1.0      0.0    150.0    1.0      3.0\n",
            "259  58.0  0.0  2.0     180.0  393.0  0.0      0.0    110.0    1.0      1.0\n",
            "260  65.0  1.0  4.0     130.0  275.0  0.0      1.0    115.0    1.0      1.0\n",
            "\n",
            "[261 rows x 10 columns]\n",
            "0      0.0\n",
            "1      0.0\n",
            "2      0.0\n",
            "3      0.0\n",
            "4      0.0\n",
            "      ... \n",
            "256    1.0\n",
            "257    1.0\n",
            "258    1.0\n",
            "259    1.0\n",
            "260    1.0\n",
            "Name: num       , Length: 261, dtype: float64\n"
          ]
        }
      ],
      "source": [
        "# The task of predicting whether `num` is 1 or 0 is often called:\n",
        "# [X] Classification\n",
        "# [ ] Regression\n",
        "# [ ] Clustering\n",
        "# Place an \"X\" at the correct answer\n",
        "\n",
        "# Get columns names\n",
        "print(medical_data.columns)\n",
        "\n",
        "\n",
        "# Creating dataframes (note spaces after num column)\n",
        "X = medical_data.drop(columns=\"num       \")\n",
        "y = medical_data[\"num       \"]\n",
        "\n",
        "\n",
        "# Show dataframe (replace with y to check)\n",
        "print(X)\n",
        "print(y)"
      ]
    },
    {
      "cell_type": "markdown",
      "metadata": {
        "id": "5FUHS_amJ3e9"
      },
      "source": [
        "### 4. It is important to set data aside for testing the model. We therefore create a train-test split of the data, where we keep 15% of the data as test data. We use stratification to make sure that the distribution of patients, i.e., the `num` column, is roughly the same in the train and test data. We provide this code for you here so that you can use it later and focus on the model training."
      ]
    },
    {
      "cell_type": "code",
      "execution_count": 39,
      "metadata": {
        "id": "Ob3DfoRLJ3e9"
      },
      "outputs": [],
      "source": [
        "# Import\n",
        "from sklearn.model_selection import train_test_split\n",
        "\n",
        "\n",
        "# Split data\n",
        "X_train, X_test, y_train, y_test = train_test_split(\n",
        "    X, y,\n",
        "    test_size=0.15,\n",
        "    random_state=42,\n",
        "    shuffle=True,\n",
        "    stratify=y\n",
        ")"
      ]
    },
    {
      "cell_type": "markdown",
      "metadata": {
        "id": "1sxSOfgMJ3e-"
      },
      "source": [
        "### 5. Among the five categorical variables, only `sex`, `fbs`, and `exang` have two levels of 0 and 1, so they are already in the dummy variable format. We still need to convert `cp` and `restecg` into dummy variables however. Use an SKlearn transformer to create columns of dummy variables corresponding to the variables `cp` and `restecg`. Hint: you may want to use the SKlearn `OneHotEncoder`. Don't forget to import all (and only) the functions you want to use from SKlearn! Also make sure that you only fit the transformer on the training data!"
      ]
    },
    {
      "cell_type": "code",
      "execution_count": 40,
      "metadata": {
        "id": "oRoTDryaJ3e-"
      },
      "outputs": [],
      "source": [
        "# Import\n",
        "from sklearn.compose import ColumnTransformer\n",
        "from sklearn.preprocessing import OneHotEncoder\n",
        "\n",
        "\n",
        "# We will use OneHotEncoder to transform the cp and restecg columns\n",
        "# We only need to process these columns, so we use a ColumnTransformer\n",
        "categorical_columns = [\"cp\", \"restecg\"]\n",
        "preprocessor = ColumnTransformer(\n",
        "    transformers=[\n",
        "        (\"dummy\", OneHotEncoder(), categorical_columns),\n",
        "    ],\n",
        "    remainder=\"passthrough\"\n",
        ")\n",
        "\n",
        "\n",
        "# Apply transformer to train and test data\n",
        "X_train = preprocessor.fit_transform(X_train)\n",
        "X_test = preprocessor.transform(X_test)"
      ]
    },
    {
      "cell_type": "markdown",
      "metadata": {
        "id": "bAB8S5amJ3e-"
      },
      "source": [
        "### 6. In the previous questions you should have recognized that we are doing classification. In this question you will use a very simple classification model to see if you can predict whether `num` should be 0 or 1 for a patient based on the variables in `X`. First create a `LogisticRegression` transformer from SKlearn. Train this model on the **train** data using the `.fit()` method. We want you to figure the exact code out by yourself by looking at the example in the [documentation](https://scikit-learn.org/stable/modules/generated/sklearn.linear_model.LogisticRegression.html). Don't worry about the hyperparameters for now and just use the defaults!"
      ]
    },
    {
      "cell_type": "code",
      "execution_count": 42,
      "metadata": {
        "id": "S4AG5Eo2J3e_",
        "colab": {
          "base_uri": "https://localhost:8080/"
        },
        "outputId": "d8cdafc2-9732-4372-9b37-9cf7797d6ad3"
      },
      "outputs": [
        {
          "output_type": "stream",
          "name": "stderr",
          "text": [
            "/usr/local/lib/python3.8/dist-packages/sklearn/linear_model/_logistic.py:814: ConvergenceWarning: lbfgs failed to converge (status=1):\n",
            "STOP: TOTAL NO. of ITERATIONS REACHED LIMIT.\n",
            "\n",
            "Increase the number of iterations (max_iter) or scale the data as shown in:\n",
            "    https://scikit-learn.org/stable/modules/preprocessing.html\n",
            "Please also refer to the documentation for alternative solver options:\n",
            "    https://scikit-learn.org/stable/modules/linear_model.html#logistic-regression\n",
            "  n_iter_i = _check_optimize_result(\n"
          ]
        },
        {
          "output_type": "execute_result",
          "data": {
            "text/plain": [
              "LogisticRegression()"
            ]
          },
          "metadata": {},
          "execution_count": 42
        }
      ],
      "source": [
        "# Import\n",
        "from sklearn.linear_model import LogisticRegression\n",
        "\n",
        "# Create model\n",
        "model = LogisticRegression()\n",
        "\n",
        "\n",
        "# Train model on training data\n",
        "model.fit(X_train, y_train)"
      ]
    },
    {
      "cell_type": "markdown",
      "metadata": {
        "id": "vg3Y4lDpJ3e_"
      },
      "source": [
        "### 7. Finally, we will evaluate the data on the testing data. To do this, we must first apply our model to `X_test` using the `.predict()` method. We then use the `classification_report` function in SKlearn to interpret the resutls by comparing the prediction with the original data (`y_test`). You can refer to the [documentation](https://scikit-learn.org/stable/modules/generated/sklearn.metrics.classification_report.html) for the classification report function and code examples."
      ]
    },
    {
      "cell_type": "code",
      "execution_count": 48,
      "metadata": {
        "id": "Kd6VUO70J3e_",
        "colab": {
          "base_uri": "https://localhost:8080/"
        },
        "outputId": "e47608f1-066c-40f8-8338-a14fafb0ff0a"
      },
      "outputs": [
        {
          "output_type": "stream",
          "name": "stdout",
          "text": [
            "              precision    recall  f1-score   support\n",
            "\n",
            "         0.0       0.86      1.00      0.93        25\n",
            "         1.0       1.00      0.73      0.85        15\n",
            "\n",
            "    accuracy                           0.90        40\n",
            "   macro avg       0.93      0.87      0.89        40\n",
            "weighted avg       0.91      0.90      0.90        40\n",
            "\n"
          ]
        }
      ],
      "source": [
        "# Imports\n",
        "from sklearn.metrics import classification_report\n",
        "\n",
        "# Apply model to X_test\n",
        "y_pred = model.predict(X_test)\n",
        "\n",
        "# Run the classification report\n",
        "print(classification_report(y_test, y_pred))"
      ]
    },
    {
      "cell_type": "code",
      "execution_count": null,
      "metadata": {
        "id": "_hlnzUe4J3e_"
      },
      "outputs": [],
      "source": [
        "# Based on the classification report baove, how do you think the model performs>\n",
        "# Add your answers/findings below in a comment:\n",
        "\"\"\"    \n",
        "TYPE HERE\n",
        "\"\"\""
      ]
    }
  ],
  "metadata": {
    "kernelspec": {
      "display_name": "Python 3.9.7 ('base')",
      "language": "python",
      "name": "python3"
    },
    "language_info": {
      "codemirror_mode": {
        "name": "ipython",
        "version": 3
      },
      "file_extension": ".py",
      "mimetype": "text/x-python",
      "name": "python",
      "nbconvert_exporter": "python",
      "pygments_lexer": "ipython3",
      "version": "3.9.7"
    },
    "orig_nbformat": 4,
    "vscode": {
      "interpreter": {
        "hash": "a1c2d866e1f8f4f68a7ee751c0fa9674a16a590668374edb209a570864acd627"
      }
    },
    "colab": {
      "provenance": []
    }
  },
  "nbformat": 4,
  "nbformat_minor": 0
}